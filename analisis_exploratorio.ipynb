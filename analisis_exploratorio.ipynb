{
 "cells": [
  {
   "cell_type": "markdown",
   "id": "ac966e6e",
   "metadata": {},
   "source": [
    "# Proyecto 1 - Análisis exploratorio\n",
    "\n",
    "Diego Andrés Morales Aquino <br>\n",
    "21762"
   ]
  },
  {
   "cell_type": "code",
   "execution_count": 1,
   "id": "1baf6eaf",
   "metadata": {},
   "outputs": [
    {
     "data": {
      "text/html": [
       "\n",
       "            <div>\n",
       "                <ins><a href=\"https://ydata.ai/register\">Upgrade to ydata-sdk</a></ins>\n",
       "                <p>\n",
       "                    Improve your data and profiling with ydata-sdk, featuring data quality scoring, redundancy detection, outlier identification, text validation, and synthetic data generation.\n",
       "                </p>\n",
       "            </div>\n",
       "            "
      ],
      "text/plain": [
       "<IPython.core.display.HTML object>"
      ]
     },
     "metadata": {},
     "output_type": "display_data"
    }
   ],
   "source": [
    "from ydata_profiling import ProfileReport\n",
    "import pandas as pd\n",
    "import seaborn as sns\n",
    "import matplotlib.pyplot as plt\n",
    "import numpy as np"
   ]
  },
  {
   "cell_type": "code",
   "execution_count": 2,
   "id": "4f4422aa",
   "metadata": {},
   "outputs": [],
   "source": [
    "data = pd.read_csv(\"dataset_feature_engineering.csv\")"
   ]
  },
  {
   "cell_type": "markdown",
   "id": "30ab7a2d",
   "metadata": {},
   "source": [
    "## Análisis exploratorio"
   ]
  },
  {
   "cell_type": "code",
   "execution_count": 48,
   "id": "cc189b9f",
   "metadata": {},
   "outputs": [
    {
     "name": "stdout",
     "output_type": "stream",
     "text": [
      "Total de features: 35\n",
      "Total de registros: 1852394\n"
     ]
    }
   ],
   "source": [
    "# Número de features\n",
    "print(f\"Total de features: {len(data.columns)}\")\n",
    "# Número de registros\n",
    "print(f\"Total de registros: {len(data)}\")"
   ]
  },
  {
   "cell_type": "code",
   "execution_count": 49,
   "id": "b8fad2e5",
   "metadata": {},
   "outputs": [
    {
     "data": {
      "text/html": [
       "<div>\n",
       "<style scoped>\n",
       "    .dataframe tbody tr th:only-of-type {\n",
       "        vertical-align: middle;\n",
       "    }\n",
       "\n",
       "    .dataframe tbody tr th {\n",
       "        vertical-align: top;\n",
       "    }\n",
       "\n",
       "    .dataframe thead th {\n",
       "        text-align: right;\n",
       "    }\n",
       "</style>\n",
       "<table border=\"1\" class=\"dataframe\">\n",
       "  <thead>\n",
       "    <tr style=\"text-align: right;\">\n",
       "      <th></th>\n",
       "      <th>cc_num</th>\n",
       "      <th>merchant</th>\n",
       "      <th>category</th>\n",
       "      <th>amt</th>\n",
       "      <th>first</th>\n",
       "      <th>last</th>\n",
       "      <th>gender</th>\n",
       "      <th>street</th>\n",
       "      <th>city</th>\n",
       "      <th>state</th>\n",
       "      <th>...</th>\n",
       "      <th>first_time_at_merchant</th>\n",
       "      <th>dist_between_client_and_merch</th>\n",
       "      <th>trans_month</th>\n",
       "      <th>trans_day</th>\n",
       "      <th>hour</th>\n",
       "      <th>year</th>\n",
       "      <th>times_shopped_at_merchant</th>\n",
       "      <th>times_shopped_at_merchant_year</th>\n",
       "      <th>times_shopped_at_merchant_month</th>\n",
       "      <th>times_shopped_at_merchant_day</th>\n",
       "    </tr>\n",
       "  </thead>\n",
       "  <tbody>\n",
       "    <tr>\n",
       "      <th>0</th>\n",
       "      <td>2703186189652095</td>\n",
       "      <td>fraud_Rippin, Kub and Mann</td>\n",
       "      <td>misc_net</td>\n",
       "      <td>4.97</td>\n",
       "      <td>Jennifer</td>\n",
       "      <td>Banks</td>\n",
       "      <td>F</td>\n",
       "      <td>561 Perry Cove</td>\n",
       "      <td>Moravian Falls</td>\n",
       "      <td>NC</td>\n",
       "      <td>...</td>\n",
       "      <td>True</td>\n",
       "      <td>78.773821</td>\n",
       "      <td>1</td>\n",
       "      <td>1</td>\n",
       "      <td>0</td>\n",
       "      <td>2019</td>\n",
       "      <td>5</td>\n",
       "      <td>4</td>\n",
       "      <td>2</td>\n",
       "      <td>1</td>\n",
       "    </tr>\n",
       "    <tr>\n",
       "      <th>1</th>\n",
       "      <td>630423337322</td>\n",
       "      <td>fraud_Heller, Gutmann and Zieme</td>\n",
       "      <td>grocery_pos</td>\n",
       "      <td>107.23</td>\n",
       "      <td>Stephanie</td>\n",
       "      <td>Gill</td>\n",
       "      <td>F</td>\n",
       "      <td>43039 Riley Greens Suite 393</td>\n",
       "      <td>Orient</td>\n",
       "      <td>WA</td>\n",
       "      <td>...</td>\n",
       "      <td>True</td>\n",
       "      <td>30.216618</td>\n",
       "      <td>1</td>\n",
       "      <td>1</td>\n",
       "      <td>0</td>\n",
       "      <td>2019</td>\n",
       "      <td>4</td>\n",
       "      <td>4</td>\n",
       "      <td>1</td>\n",
       "      <td>1</td>\n",
       "    </tr>\n",
       "    <tr>\n",
       "      <th>2</th>\n",
       "      <td>38859492057661</td>\n",
       "      <td>fraud_Lind-Buckridge</td>\n",
       "      <td>entertainment</td>\n",
       "      <td>220.11</td>\n",
       "      <td>Edward</td>\n",
       "      <td>Sanchez</td>\n",
       "      <td>M</td>\n",
       "      <td>594 White Dale Suite 530</td>\n",
       "      <td>Malad City</td>\n",
       "      <td>ID</td>\n",
       "      <td>...</td>\n",
       "      <td>True</td>\n",
       "      <td>108.102912</td>\n",
       "      <td>1</td>\n",
       "      <td>1</td>\n",
       "      <td>0</td>\n",
       "      <td>2019</td>\n",
       "      <td>4</td>\n",
       "      <td>3</td>\n",
       "      <td>1</td>\n",
       "      <td>1</td>\n",
       "    </tr>\n",
       "    <tr>\n",
       "      <th>3</th>\n",
       "      <td>3534093764340240</td>\n",
       "      <td>fraud_Kutch, Hermiston and Farrell</td>\n",
       "      <td>gas_transport</td>\n",
       "      <td>45.00</td>\n",
       "      <td>Jeremy</td>\n",
       "      <td>White</td>\n",
       "      <td>M</td>\n",
       "      <td>9443 Cynthia Court Apt. 038</td>\n",
       "      <td>Boulder</td>\n",
       "      <td>MT</td>\n",
       "      <td>...</td>\n",
       "      <td>True</td>\n",
       "      <td>95.685115</td>\n",
       "      <td>1</td>\n",
       "      <td>1</td>\n",
       "      <td>0</td>\n",
       "      <td>2019</td>\n",
       "      <td>1</td>\n",
       "      <td>1</td>\n",
       "      <td>1</td>\n",
       "      <td>1</td>\n",
       "    </tr>\n",
       "    <tr>\n",
       "      <th>4</th>\n",
       "      <td>375534208663984</td>\n",
       "      <td>fraud_Keeling-Crist</td>\n",
       "      <td>misc_pos</td>\n",
       "      <td>41.96</td>\n",
       "      <td>Tyler</td>\n",
       "      <td>Garcia</td>\n",
       "      <td>M</td>\n",
       "      <td>408 Bradley Rest</td>\n",
       "      <td>Doe Hill</td>\n",
       "      <td>VA</td>\n",
       "      <td>...</td>\n",
       "      <td>True</td>\n",
       "      <td>77.702395</td>\n",
       "      <td>1</td>\n",
       "      <td>1</td>\n",
       "      <td>0</td>\n",
       "      <td>2019</td>\n",
       "      <td>6</td>\n",
       "      <td>1</td>\n",
       "      <td>1</td>\n",
       "      <td>1</td>\n",
       "    </tr>\n",
       "  </tbody>\n",
       "</table>\n",
       "<p>5 rows × 35 columns</p>\n",
       "</div>"
      ],
      "text/plain": [
       "             cc_num                            merchant       category  \\\n",
       "0  2703186189652095          fraud_Rippin, Kub and Mann       misc_net   \n",
       "1      630423337322     fraud_Heller, Gutmann and Zieme    grocery_pos   \n",
       "2    38859492057661                fraud_Lind-Buckridge  entertainment   \n",
       "3  3534093764340240  fraud_Kutch, Hermiston and Farrell  gas_transport   \n",
       "4   375534208663984                 fraud_Keeling-Crist       misc_pos   \n",
       "\n",
       "      amt      first     last gender                        street  \\\n",
       "0    4.97   Jennifer    Banks      F                561 Perry Cove   \n",
       "1  107.23  Stephanie     Gill      F  43039 Riley Greens Suite 393   \n",
       "2  220.11     Edward  Sanchez      M      594 White Dale Suite 530   \n",
       "3   45.00     Jeremy    White      M   9443 Cynthia Court Apt. 038   \n",
       "4   41.96      Tyler   Garcia      M              408 Bradley Rest   \n",
       "\n",
       "             city state  ...  first_time_at_merchant  \\\n",
       "0  Moravian Falls    NC  ...                    True   \n",
       "1          Orient    WA  ...                    True   \n",
       "2      Malad City    ID  ...                    True   \n",
       "3         Boulder    MT  ...                    True   \n",
       "4        Doe Hill    VA  ...                    True   \n",
       "\n",
       "   dist_between_client_and_merch  trans_month  trans_day hour  year  \\\n",
       "0                      78.773821            1          1    0  2019   \n",
       "1                      30.216618            1          1    0  2019   \n",
       "2                     108.102912            1          1    0  2019   \n",
       "3                      95.685115            1          1    0  2019   \n",
       "4                      77.702395            1          1    0  2019   \n",
       "\n",
       "  times_shopped_at_merchant  times_shopped_at_merchant_year  \\\n",
       "0                         5                               4   \n",
       "1                         4                               4   \n",
       "2                         4                               3   \n",
       "3                         1                               1   \n",
       "4                         6                               1   \n",
       "\n",
       "   times_shopped_at_merchant_month  times_shopped_at_merchant_day  \n",
       "0                                2                              1  \n",
       "1                                1                              1  \n",
       "2                                1                              1  \n",
       "3                                1                              1  \n",
       "4                                1                              1  \n",
       "\n",
       "[5 rows x 35 columns]"
      ]
     },
     "execution_count": 49,
     "metadata": {},
     "output_type": "execute_result"
    }
   ],
   "source": [
    "# Desplegar primeras filas del dataset\n",
    "data.head(5)"
   ]
  },
  {
   "cell_type": "code",
   "execution_count": 39,
   "id": "2485b27c",
   "metadata": {},
   "outputs": [
    {
     "data": {
      "text/plain": [
       "cc_num                               int64\n",
       "merchant                            object\n",
       "category                            object\n",
       "amt                                float64\n",
       "first                               object\n",
       "last                                object\n",
       "gender                              object\n",
       "street                              object\n",
       "city                                object\n",
       "state                               object\n",
       "zip                                  int64\n",
       "lat                                float64\n",
       "long                               float64\n",
       "city_pop                             int64\n",
       "job                                 object\n",
       "dob                                 object\n",
       "trans_num                           object\n",
       "unix_time                            int64\n",
       "merch_lat                          float64\n",
       "merch_long                         float64\n",
       "is_fraud                             int64\n",
       "amt_month                          float64\n",
       "amt_year                           float64\n",
       "amt_month_shopping_net_spend       float64\n",
       "count_month_shopping_net           float64\n",
       "first_time_at_merchant                bool\n",
       "dist_between_client_and_merch      float64\n",
       "trans_month                          int64\n",
       "trans_day                            int64\n",
       "hour                                 int64\n",
       "year                                 int64\n",
       "times_shopped_at_merchant            int64\n",
       "times_shopped_at_merchant_year       int64\n",
       "times_shopped_at_merchant_month      int64\n",
       "times_shopped_at_merchant_day        int64\n",
       "dtype: object"
      ]
     },
     "execution_count": 39,
     "metadata": {},
     "output_type": "execute_result"
    }
   ],
   "source": [
    "# Observar el tipo de datos de cada columna\n",
    "data.dtypes"
   ]
  },
  {
   "cell_type": "code",
   "execution_count": 40,
   "id": "36e48308",
   "metadata": {},
   "outputs": [],
   "source": [
    "#report = ProfileReport(data)\n",
    "#report"
   ]
  },
  {
   "cell_type": "code",
   "execution_count": 41,
   "id": "2da1746e",
   "metadata": {},
   "outputs": [
    {
     "ename": "NameError",
     "evalue": "name 'report' is not defined",
     "output_type": "error",
     "traceback": [
      "\u001b[31m---------------------------------------------------------------------------\u001b[39m",
      "\u001b[31mNameError\u001b[39m                                 Traceback (most recent call last)",
      "\u001b[36mCell\u001b[39m\u001b[36m \u001b[39m\u001b[32mIn[41]\u001b[39m\u001b[32m, line 1\u001b[39m\n\u001b[32m----> \u001b[39m\u001b[32m1\u001b[39m \u001b[43mreport\u001b[49m.to_file(\u001b[33m\"\u001b[39m\u001b[33mdataset_profile_report.html\u001b[39m\u001b[33m\"\u001b[39m)\n",
      "\u001b[31mNameError\u001b[39m: name 'report' is not defined"
     ]
    }
   ],
   "source": [
    "report.to_file(\"dataset_profile_report.html\")"
   ]
  },
  {
   "cell_type": "markdown",
   "id": "b887d6b8",
   "metadata": {},
   "source": [
    "### Frecuencia por categoría"
   ]
  },
  {
   "cell_type": "code",
   "execution_count": null,
   "id": "91bb32cb",
   "metadata": {},
   "outputs": [
    {
     "name": "stdout",
     "output_type": "stream",
     "text": [
      "          category   count\n",
      "0    gas_transport  188029\n",
      "1      grocery_pos  176191\n",
      "2             home  175460\n",
      "3     shopping_pos  166463\n",
      "4        kids_pets  161727\n",
      "5     shopping_net  139322\n",
      "6    entertainment  134118\n",
      "7      food_dining  130729\n",
      "8    personal_care  130085\n",
      "9   health_fitness  122553\n",
      "10        misc_pos  114229\n",
      "11        misc_net   90654\n",
      "12     grocery_net   64878\n",
      "13          travel   57956\n"
     ]
    }
   ],
   "source": [
    "category_freq = data['category'].value_counts().reset_index()\n",
    "category_freq.columns = ['category', 'count']\n",
    "\n",
    "print(category_freq)\n"
   ]
  },
  {
   "cell_type": "code",
   "execution_count": null,
   "id": "5ab8708a",
   "metadata": {},
   "outputs": [
    {
     "data": {
      "image/png": "[encoded data removed]",
      "text/plain": [
       "<Figure size 1000x800 with 1 Axes>"
      ]
     },
     "metadata": {},
     "output_type": "display_data"
    }
   ],
   "source": [
    "# Agrupar y contar categorías\n",
    "category_counts = data['category'].value_counts().sort_values(ascending=True)\n",
    "\n",
    "# Crear un DataFrame para usar `hue` correctamente (aunque no haya grupos)\n",
    "category_df = category_counts.reset_index()\n",
    "category_df.columns = ['category', 'count']\n",
    "category_df['hue'] = category_df['category']  # Dummy hue para aplicar el palette\n",
    "\n",
    "# Plot sin warning\n",
    "plt.figure(figsize=(10, 8))\n",
    "sns.barplot(data=category_df, x='count', y='category', hue='hue', palette='viridis', dodge=False, legend=False)\n",
    "plt.title('Frecuencia de transacciones por categoría')\n",
    "plt.xlabel('Cantidad de transacciones')\n",
    "plt.ylabel('Categoría')\n",
    "plt.tight_layout()\n",
    "plt.show()\n"
   ]
  },
  {
   "cell_type": "markdown",
   "id": "c403b646",
   "metadata": {},
   "source": [
    "### Cantidad de transacciones legítimas vs fraudulentas"
   ]
  },
  {
   "cell_type": "code",
   "execution_count": null,
   "id": "f90575b9",
   "metadata": {},
   "outputs": [
    {
     "data": {
      "image/png": "[encoded data removed]",
      "text/plain": [
       "<Figure size 640x480 with 1 Axes>"
      ]
     },
     "metadata": {},
     "output_type": "display_data"
    }
   ],
   "source": [
    "# Crear un DataFrame con los valores\n",
    "fraud_df = pd.DataFrame({\n",
    "    'Tipo': ['Legítima', 'Fraude'],\n",
    "    'Cantidad': data['is_fraud'].value_counts().sort_index().values\n",
    "})\n",
    "\n",
    "# Gráfico con hue explícito\n",
    "sns.barplot(data=fraud_df, x='Tipo', y='Cantidad', hue='Tipo', palette={'Legítima': 'green', 'Fraude': 'red'}, legend=False)\n",
    "plt.title('Cantidad de transacciones legítimas vs fraudulentas')\n",
    "plt.ylabel('Cantidad de transacciones')\n",
    "plt.xlabel('Tipo de transacción')\n",
    "plt.show()\n"
   ]
  },
  {
   "cell_type": "markdown",
   "id": "75092af5",
   "metadata": {},
   "source": [
    "### Distribución de transacciones por hora"
   ]
  },
  {
   "cell_type": "code",
   "execution_count": null,
   "id": "20150b5c",
   "metadata": {},
   "outputs": [
    {
     "data": {
      "image/png": "[encoded data removed]",
      "text/plain": [
       "<Figure size 640x480 with 1 Axes>"
      ]
     },
     "metadata": {},
     "output_type": "display_data"
    }
   ],
   "source": [
    "sns.histplot(data=data, x='hour', bins=24, kde=False)\n",
    "plt.title('Distribución de transacciones por hora del día')\n",
    "plt.xlabel('Hora')\n",
    "plt.ylabel('Cantidad de transacciones')\n",
    "plt.show()\n"
   ]
  },
  {
   "cell_type": "markdown",
   "id": "1d969b2d",
   "metadata": {},
   "source": [
    "Se muestra a qué horas del día se concentran las transacciones. Analizar la distribución horaria es útil para detectar patrones anómalos, ya que los fraudes tienden a ocurrir fuera del horario hábil, como en la madrugada."
   ]
  },
  {
   "cell_type": "markdown",
   "id": "6580e7f5",
   "metadata": {},
   "source": [
    "### Distribución del monto de transacciones (utilizando escala log)"
   ]
  },
  {
   "cell_type": "code",
   "execution_count": null,
   "id": "e6ee3ca3",
   "metadata": {},
   "outputs": [
    {
     "data": {
      "image/png": "[encoded data removed]",
      "text/plain": [
       "<Figure size 640x480 with 1 Axes>"
      ]
     },
     "metadata": {},
     "output_type": "display_data"
    }
   ],
   "source": [
    "sns.histplot(np.log1p(data['amt']), bins=100)\n",
    "plt.title('Distribución de log(monto + 1)')\n",
    "plt.xlabel('log(monto)')\n",
    "plt.show()"
   ]
  },
  {
   "cell_type": "markdown",
   "id": "473a9763",
   "metadata": {},
   "source": [
    "El monto de las transacciones puede variar ampliamente. En esta gráfico se puede observar tanto los valores comunes como los extremos. Esta información ayuda a detectar si los fraudes se asocian con montos atípicos. Se está utilizando una escala logarítmica para poder visualizar de mejor manera."
   ]
  },
  {
   "cell_type": "markdown",
   "id": "ad46e14f",
   "metadata": {},
   "source": [
    "### Porcentaje de fraudes por categoría de comercio"
   ]
  },
  {
   "cell_type": "code",
   "execution_count": null,
   "id": "bedb5e60",
   "metadata": {},
   "outputs": [
    {
     "data": {
      "image/png": "[encoded data removed]",
      "text/plain": [
       "<Figure size 1000x800 with 1 Axes>"
      ]
     },
     "metadata": {},
     "output_type": "display_data"
    }
   ],
   "source": [
    "category_fraud_freq = data.groupby(['category', 'is_fraud']).size().unstack(fill_value=0)\n",
    "category_fraud_freq.columns = ['Legítimas', 'Fraudes']\n",
    "category_fraud_freq['Total'] = category_fraud_freq.sum(axis=1)\n",
    "category_fraud_freq['% Fraudes'] = (category_fraud_freq['Fraudes'] / category_fraud_freq['Total']) * 100\n",
    "category_fraud_freq.sort_values('% Fraudes', ascending=False)[['% Fraudes']].plot(kind='barh', figsize=(10, 8), color='crimson')\n",
    "\n",
    "plt.title('Porcentaje de fraudes por categoría')\n",
    "plt.xlabel('% de transacciones fraudulentas')\n",
    "plt.ylabel('Categoría')\n",
    "plt.show()\n"
   ]
  },
  {
   "cell_type": "markdown",
   "id": "678ba270",
   "metadata": {},
   "source": [
    "Este gráfico permite identificar en qué categorías comerciales se concentran más fraudes proporcionalmente. Las transacciones por internet tiene una mayor posibilidad de transacciones fraudulentas. Mientras que, la categoría de viajes posee un nivel medio-bajo de transacciones de fraude."
   ]
  },
  {
   "cell_type": "markdown",
   "id": "3e927c1d",
   "metadata": {},
   "source": [
    "### Monto promedio por tipo de transacción"
   ]
  },
  {
   "cell_type": "code",
   "execution_count": null,
   "id": "685cb0e3",
   "metadata": {},
   "outputs": [
    {
     "data": {
      "image/png": "[encoded data removed]",
      "text/plain": [
       "<Figure size 640x480 with 1 Axes>"
      ]
     },
     "metadata": {},
     "output_type": "display_data"
    }
   ],
   "source": [
    "data.groupby('is_fraud')['amt'].mean().plot(kind='bar', color=['green', 'red'])\n",
    "plt.title('Monto promedio por tipo de transacción')\n",
    "plt.xlabel('Tipo de transacción')\n",
    "plt.ylabel('Monto promedio')\n",
    "plt.xticks([0, 1], ['Legítima', 'Fraude'], rotation=0)\n",
    "plt.show()\n"
   ]
  },
  {
   "cell_type": "markdown",
   "id": "905eae2c",
   "metadata": {},
   "source": [
    "Se puede observar que las transacciones fraudulentas generalmente presentan montos mucho más elevados que las legítimas en promedio."
   ]
  },
  {
   "cell_type": "markdown",
   "id": "fd54f4d2",
   "metadata": {},
   "source": [
    "### Cuántas veces se ha comprado en un comercio: legítimo vs fraude"
   ]
  },
  {
   "cell_type": "code",
   "execution_count": null,
   "id": "35a29f5d",
   "metadata": {},
   "outputs": [
    {
     "data": {
      "image/png": "[encoded data removed]",
      "text/plain": [
       "<Figure size 640x480 with 1 Axes>"
      ]
     },
     "metadata": {},
     "output_type": "display_data"
    }
   ],
   "source": [
    "sns.boxplot(x='is_fraud', y='times_shopped_at_merchant', data=data)\n",
    "plt.title('Relación entre historial con el comercio y fraude')\n",
    "plt.xlabel('¿Es fraude?')\n",
    "plt.ylabel('Veces que ha comprado con el comercio')\n",
    "plt.xticks([0, 1], ['Legítima', 'Fraude'])\n",
    "plt.show()\n"
   ]
  },
  {
   "cell_type": "markdown",
   "id": "3faa6ec7",
   "metadata": {},
   "source": [
    "Se observa que las transacciones fraudulentas tienden a concentrarse en clientes con un menor número de compras previas en un comercio, en comparación con las transacciones legítimas."
   ]
  },
  {
   "cell_type": "markdown",
   "id": "f2ef5fef",
   "metadata": {},
   "source": [
    "### Ubicación geográfica por tipo de transacción"
   ]
  },
  {
   "cell_type": "code",
   "execution_count": null,
   "id": "286ff46d",
   "metadata": {},
   "outputs": [
    {
     "name": "stderr",
     "output_type": "stream",
     "text": [
      "C:\\Users\\diego\\AppData\\Roaming\\Python\\Python312\\site-packages\\IPython\\core\\pylabtools.py:170: UserWarning: Creating legend with loc=\"best\" can be slow with large amounts of data.\n",
      "  fig.canvas.print_figure(bytes_io, **kw)\n"
     ]
    },
    {
     "data": {
      "image/png": "[encoded data removed]",
      "text/plain": [
       "<Figure size 640x480 with 1 Axes>"
      ]
     },
     "metadata": {},
     "output_type": "display_data"
    }
   ],
   "source": [
    "data['fraud_label'] = data['is_fraud'].map({0: 'Legítima', 1: 'Fraude'})\n",
    "\n",
    "sns.scatterplot(\n",
    "    data=data,\n",
    "    x='long', \n",
    "    y='lat', \n",
    "    hue='fraud_label', \n",
    "    palette={'Legítima': 'green', 'Fraude': 'red'},\n",
    "    alpha=0.5\n",
    ")\n",
    "\n",
    "plt.title('Ubicación geográfica de las transacciones')\n",
    "plt.xlabel('Longitud')\n",
    "plt.ylabel('Latitud')\n",
    "plt.legend(title='Tipo de transacción')\n",
    "plt.show()\n",
    "\n"
   ]
  },
  {
   "cell_type": "markdown",
   "id": "046bfe86",
   "metadata": {},
   "source": [
    "No se puede observar una tendencia clara de una ubicación geográfica en donde se concentren las transacciones fraudulentas. Sin embargo, resulta interesante que se puede apreciar la forma de los EEUU al resaltar la ubicación de las transacciones."
   ]
  },
  {
   "cell_type": "markdown",
   "id": "9c2e939a",
   "metadata": {},
   "source": [
    "## Data engineering"
   ]
  },
  {
   "cell_type": "code",
   "execution_count": 3,
   "id": "57e53084",
   "metadata": {},
   "outputs": [],
   "source": [
    "# Ordenar por número de tarjeta y tiempo de la transacción\n",
    "data = data.sort_values(by=['cc_num', 'unix_time']).reset_index(drop=True)"
   ]
  },
  {
   "cell_type": "markdown",
   "id": "05b207d6",
   "metadata": {},
   "source": [
    "### amt_avg_per_visit_to_merchant\n",
    "\n",
    "Calcular el monto promedio gastado en cada visita a un comercio específico. Será útil para detectar patrones inusuales en el gasto: por ejemplo, si normalmente alguien gasta poco en una agencia de viajes y de pronto hace una compra grande, podría levantar sospechas."
   ]
  },
  {
   "cell_type": "code",
   "execution_count": 4,
   "id": "051ad6c9",
   "metadata": {},
   "outputs": [],
   "source": [
    "data['amt_avg_per_visit_to_merchant'] = data['amt'] / (data['times_shopped_at_merchant'] + 1)"
   ]
  },
  {
   "cell_type": "code",
   "execution_count": 52,
   "id": "276fd99a",
   "metadata": {},
   "outputs": [
    {
     "data": {
      "text/plain": [
       "count    1.852394e+06\n",
       "mean     1.439028e+01\n",
       "std      4.671809e+01\n",
       "min      4.478261e-02\n",
       "25%      2.056667e+00\n",
       "50%      7.178750e+00\n",
       "75%      1.575143e+01\n",
       "max      1.355989e+04\n",
       "Name: amt_avg_per_visit_to_merchant, dtype: float64"
      ]
     },
     "execution_count": 52,
     "metadata": {},
     "output_type": "execute_result"
    }
   ],
   "source": [
    "data['amt_avg_per_visit_to_merchant'].describe()"
   ]
  },
  {
   "cell_type": "markdown",
   "id": "9bcaa289",
   "metadata": {},
   "source": [
    "### amt_ratio_to_month_total\n",
    "Representa qué porcentaje del gasto mensual total representa la transacción actual. "
   ]
  },
  {
   "cell_type": "code",
   "execution_count": 5,
   "id": "750b0716",
   "metadata": {},
   "outputs": [],
   "source": [
    "data['amt_ratio_to_month_total'] = data['amt'] / (data['amt_month'] + 1)\n"
   ]
  },
  {
   "cell_type": "code",
   "execution_count": 54,
   "id": "ee45a397",
   "metadata": {},
   "outputs": [
    {
     "data": {
      "text/plain": [
       "count    1.852394e+06\n",
       "mean     5.551670e-02\n",
       "std      1.385907e-01\n",
       "min      3.097998e-05\n",
       "25%      4.005020e-03\n",
       "50%      1.359321e-02\n",
       "75%      3.982134e-02\n",
       "max      9.999140e-01\n",
       "Name: amt_ratio_to_month_total, dtype: float64"
      ]
     },
     "execution_count": 54,
     "metadata": {},
     "output_type": "execute_result"
    }
   ],
   "source": [
    "data['amt_ratio_to_month_total'].describe()"
   ]
  },
  {
   "cell_type": "markdown",
   "id": "10567cbe",
   "metadata": {},
   "source": [
    "### consecutive_transactions_same_merchant\n",
    "Evalúa si hubo múltiples transacciones con el mismo comercio en un periodo de una hora"
   ]
  },
  {
   "cell_type": "code",
   "execution_count": 6,
   "id": "350be410",
   "metadata": {},
   "outputs": [],
   "source": [
    "data['consecutive_transactions_same_merchant'] = (\n",
    "    (data['merchant'] == data.groupby('cc_num')['merchant'].shift(1)) &\n",
    "    (data['unix_time'] - data.groupby('cc_num')['unix_time'].shift(1) < 3600)\n",
    ").astype(int)"
   ]
  },
  {
   "cell_type": "code",
   "execution_count": null,
   "id": "707f5b09",
   "metadata": {},
   "outputs": [
    {
     "data": {
      "text/plain": [
       "consecutive_transactions_same_merchant\n",
       "0    1851492\n",
       "1        902\n",
       "Name: count, dtype: int64"
      ]
     },
     "execution_count": 10,
     "metadata": {},
     "output_type": "execute_result"
    }
   ],
   "source": [
    "data['consecutive_transactions_same_merchant'].value_counts()"
   ]
  },
  {
   "cell_type": "markdown",
   "id": "ea10c6e4",
   "metadata": {},
   "source": [
    "### relative_distance_vs_previous\n",
    "Diferencia de distancia respecto a la transacción anterior de la misma tarjeta. Si el usuario suele comprar cerca de su ubicación habitual, una transacción con una distancia totalmente distinta podría ser una señal de fraude."
   ]
  },
  {
   "cell_type": "code",
   "execution_count": 7,
   "id": "4ad6271b",
   "metadata": {},
   "outputs": [],
   "source": [
    "# Calculars la distancia respecto a la transacción anterior del mismo usuario\n",
    "data['prev_dist'] = data.groupby('cc_num')['dist_between_client_and_merch'].shift(1)\n",
    "data['relative_distance_vs_previous'] = (data['dist_between_client_and_merch'] - data['prev_dist']).fillna(0)\n"
   ]
  },
  {
   "cell_type": "code",
   "execution_count": null,
   "id": "22eb6693",
   "metadata": {},
   "outputs": [
    {
     "data": {
      "text/plain": [
       "count    1.852394e+06\n",
       "mean     5.120865e-04\n",
       "std      4.101586e+01\n",
       "min     -1.411520e+02\n",
       "25%     -2.846672e+01\n",
       "50%      0.000000e+00\n",
       "75%      2.847191e+01\n",
       "max      1.379217e+02\n",
       "Name: relative_distance_vs_previous, dtype: float64"
      ]
     },
     "execution_count": 12,
     "metadata": {},
     "output_type": "execute_result"
    }
   ],
   "source": [
    "data['relative_distance_vs_previous'].describe()"
   ]
  },
  {
   "cell_type": "markdown",
   "id": "243c855e",
   "metadata": {},
   "source": [
    "### merchant_entropy_user_level\n",
    "La diversidad de comercios en los que un usuario ha comprado, usando entropía. Usuarios con perfiles muy consistentes (baja entropía) que repentinamente compran en lugares muy variados podrían estar siendo vulnerados."
   ]
  },
  {
   "cell_type": "code",
   "execution_count": 8,
   "id": "75320f5e",
   "metadata": {},
   "outputs": [],
   "source": [
    "from scipy.stats import entropy\n",
    "\n",
    "def calc_entropy(merchants):\n",
    "    probs = merchants.value_counts(normalize=True)\n",
    "    return entropy(probs)\n",
    "\n",
    "merchant_entropy = data.groupby('cc_num')['merchant'].agg(calc_entropy)\n",
    "data = data.merge(merchant_entropy.rename('merchant_entropy_user_level'), left_on='cc_num', right_index=True)\n"
   ]
  },
  {
   "cell_type": "code",
   "execution_count": null,
   "id": "720d1f40",
   "metadata": {},
   "outputs": [
    {
     "data": {
      "text/plain": [
       "count    1.852394e+06\n",
       "mean     6.274365e+00\n",
       "std      1.511986e-01\n",
       "min      1.560710e+00\n",
       "25%      6.246483e+00\n",
       "50%      6.310343e+00\n",
       "75%      6.364319e+00\n",
       "max      6.416477e+00\n",
       "Name: merchant_entropy_user_level, dtype: float64"
      ]
     },
     "execution_count": 14,
     "metadata": {},
     "output_type": "execute_result"
    }
   ],
   "source": [
    "data['merchant_entropy_user_level'].describe()"
   ]
  },
  {
   "cell_type": "markdown",
   "id": "110b2220",
   "metadata": {},
   "source": [
    "### has_traveled_far_in_a_day\n",
    "Evalúa si en ese día el usuario ha comprado desde un lugar a más de 100km de su ubicación habitual."
   ]
  },
  {
   "cell_type": "code",
   "execution_count": 9,
   "id": "03929fbd",
   "metadata": {},
   "outputs": [],
   "source": [
    "# Calcula la distancia diaria máxima por tarjeta\n",
    "daily_max_dist = data.groupby(['cc_num', 'year', 'trans_month', 'trans_day'])['dist_between_client_and_merch'].transform('max')\n",
    "data['has_traveled_far_in_a_day'] = (daily_max_dist > 100).astype(int)\n"
   ]
  },
  {
   "cell_type": "code",
   "execution_count": null,
   "id": "8f86906e",
   "metadata": {},
   "outputs": [
    {
     "data": {
      "text/plain": [
       "Text(0.5, 1.0, 'Porcentaje de transacciones con distancia máxima diaria > 100 km')"
      ]
     },
     "execution_count": 16,
     "metadata": {},
     "output_type": "execute_result"
    },
    {
     "data": {
      "image/png": "[encoded data removed]",
      "text/plain": [
       "<Figure size 640x480 with 1 Axes>"
      ]
     },
     "metadata": {},
     "output_type": "display_data"
    }
   ],
   "source": [
    "data['has_traveled_far_in_a_day'].value_counts(normalize=True).plot(kind='bar', color=['green', 'red'])\n",
    "plt.title('Porcentaje de transacciones con distancia máxima diaria > 100 km')"
   ]
  },
  {
   "cell_type": "markdown",
   "id": "f54c559a",
   "metadata": {},
   "source": [
    "### is_travel"
   ]
  },
  {
   "cell_type": "code",
   "execution_count": 10,
   "id": "155d78ff",
   "metadata": {},
   "outputs": [],
   "source": [
    "data['travel'] = data['category'].str.lower().isin(['travel'])"
   ]
  },
  {
   "cell_type": "code",
   "execution_count": null,
   "id": "4a979db1",
   "metadata": {},
   "outputs": [
    {
     "data": {
      "text/html": [
       "<div>\n",
       "<style scoped>\n",
       "    .dataframe tbody tr th:only-of-type {\n",
       "        vertical-align: middle;\n",
       "    }\n",
       "\n",
       "    .dataframe tbody tr th {\n",
       "        vertical-align: top;\n",
       "    }\n",
       "\n",
       "    .dataframe thead th {\n",
       "        text-align: right;\n",
       "    }\n",
       "</style>\n",
       "<table border=\"1\" class=\"dataframe\">\n",
       "  <thead>\n",
       "    <tr style=\"text-align: right;\">\n",
       "      <th></th>\n",
       "      <th>cc_num</th>\n",
       "      <th>merchant</th>\n",
       "      <th>category</th>\n",
       "      <th>amt</th>\n",
       "      <th>first</th>\n",
       "      <th>last</th>\n",
       "      <th>gender</th>\n",
       "      <th>street</th>\n",
       "      <th>city</th>\n",
       "      <th>state</th>\n",
       "      <th>...</th>\n",
       "      <th>times_shopped_at_merchant_month</th>\n",
       "      <th>times_shopped_at_merchant_day</th>\n",
       "      <th>amt_avg_per_visit_to_merchant</th>\n",
       "      <th>amt_ratio_to_month_total</th>\n",
       "      <th>consecutive_transactions_same_merchant</th>\n",
       "      <th>prev_dist</th>\n",
       "      <th>relative_distance_vs_previous</th>\n",
       "      <th>merchant_entropy_user_level</th>\n",
       "      <th>has_traveled_far_in_a_day</th>\n",
       "      <th>travel</th>\n",
       "    </tr>\n",
       "  </thead>\n",
       "  <tbody>\n",
       "    <tr>\n",
       "      <th>0</th>\n",
       "      <td>60416207185</td>\n",
       "      <td>fraud_Jones, Sawayn and Romaguera</td>\n",
       "      <td>misc_net</td>\n",
       "      <td>7.27</td>\n",
       "      <td>Mary</td>\n",
       "      <td>Diaz</td>\n",
       "      <td>F</td>\n",
       "      <td>9886 Anita Drive</td>\n",
       "      <td>Fort Washakie</td>\n",
       "      <td>WY</td>\n",
       "      <td>...</td>\n",
       "      <td>1</td>\n",
       "      <td>1</td>\n",
       "      <td>1.211667</td>\n",
       "      <td>0.879081</td>\n",
       "      <td>0</td>\n",
       "      <td>NaN</td>\n",
       "      <td>0.000000</td>\n",
       "      <td>6.28729</td>\n",
       "      <td>1</td>\n",
       "      <td>False</td>\n",
       "    </tr>\n",
       "    <tr>\n",
       "      <th>1</th>\n",
       "      <td>60416207185</td>\n",
       "      <td>fraud_Berge LLC</td>\n",
       "      <td>gas_transport</td>\n",
       "      <td>52.94</td>\n",
       "      <td>Mary</td>\n",
       "      <td>Diaz</td>\n",
       "      <td>F</td>\n",
       "      <td>9886 Anita Drive</td>\n",
       "      <td>Fort Washakie</td>\n",
       "      <td>WY</td>\n",
       "      <td>...</td>\n",
       "      <td>2</td>\n",
       "      <td>2</td>\n",
       "      <td>4.072308</td>\n",
       "      <td>0.864891</td>\n",
       "      <td>0</td>\n",
       "      <td>127.629296</td>\n",
       "      <td>-17.426304</td>\n",
       "      <td>6.28729</td>\n",
       "      <td>1</td>\n",
       "      <td>False</td>\n",
       "    </tr>\n",
       "    <tr>\n",
       "      <th>2</th>\n",
       "      <td>60416207185</td>\n",
       "      <td>fraud_Luettgen PLC</td>\n",
       "      <td>gas_transport</td>\n",
       "      <td>82.08</td>\n",
       "      <td>Mary</td>\n",
       "      <td>Diaz</td>\n",
       "      <td>F</td>\n",
       "      <td>9886 Anita Drive</td>\n",
       "      <td>Fort Washakie</td>\n",
       "      <td>WY</td>\n",
       "      <td>...</td>\n",
       "      <td>1</td>\n",
       "      <td>3</td>\n",
       "      <td>7.461818</td>\n",
       "      <td>0.572824</td>\n",
       "      <td>0</td>\n",
       "      <td>110.202992</td>\n",
       "      <td>-88.361165</td>\n",
       "      <td>6.28729</td>\n",
       "      <td>1</td>\n",
       "      <td>False</td>\n",
       "    </tr>\n",
       "    <tr>\n",
       "      <th>3</th>\n",
       "      <td>60416207185</td>\n",
       "      <td>fraud_Daugherty LLC</td>\n",
       "      <td>kids_pets</td>\n",
       "      <td>34.79</td>\n",
       "      <td>Mary</td>\n",
       "      <td>Diaz</td>\n",
       "      <td>F</td>\n",
       "      <td>9886 Anita Drive</td>\n",
       "      <td>Fort Washakie</td>\n",
       "      <td>WY</td>\n",
       "      <td>...</td>\n",
       "      <td>1</td>\n",
       "      <td>1</td>\n",
       "      <td>4.348750</td>\n",
       "      <td>0.195362</td>\n",
       "      <td>0</td>\n",
       "      <td>21.841827</td>\n",
       "      <td>65.282594</td>\n",
       "      <td>6.28729</td>\n",
       "      <td>1</td>\n",
       "      <td>False</td>\n",
       "    </tr>\n",
       "    <tr>\n",
       "      <th>4</th>\n",
       "      <td>60416207185</td>\n",
       "      <td>fraud_Beier and Sons</td>\n",
       "      <td>home</td>\n",
       "      <td>27.18</td>\n",
       "      <td>Mary</td>\n",
       "      <td>Diaz</td>\n",
       "      <td>F</td>\n",
       "      <td>9886 Anita Drive</td>\n",
       "      <td>Fort Washakie</td>\n",
       "      <td>WY</td>\n",
       "      <td>...</td>\n",
       "      <td>1</td>\n",
       "      <td>2</td>\n",
       "      <td>6.795000</td>\n",
       "      <td>0.132417</td>\n",
       "      <td>0</td>\n",
       "      <td>87.124420</td>\n",
       "      <td>-12.771544</td>\n",
       "      <td>6.28729</td>\n",
       "      <td>1</td>\n",
       "      <td>False</td>\n",
       "    </tr>\n",
       "  </tbody>\n",
       "</table>\n",
       "<p>5 rows × 43 columns</p>\n",
       "</div>"
      ],
      "text/plain": [
       "        cc_num                           merchant       category    amt first  \\\n",
       "0  60416207185  fraud_Jones, Sawayn and Romaguera       misc_net   7.27  Mary   \n",
       "1  60416207185                    fraud_Berge LLC  gas_transport  52.94  Mary   \n",
       "2  60416207185                 fraud_Luettgen PLC  gas_transport  82.08  Mary   \n",
       "3  60416207185                fraud_Daugherty LLC      kids_pets  34.79  Mary   \n",
       "4  60416207185               fraud_Beier and Sons           home  27.18  Mary   \n",
       "\n",
       "   last gender            street           city state  ...  \\\n",
       "0  Diaz      F  9886 Anita Drive  Fort Washakie    WY  ...   \n",
       "1  Diaz      F  9886 Anita Drive  Fort Washakie    WY  ...   \n",
       "2  Diaz      F  9886 Anita Drive  Fort Washakie    WY  ...   \n",
       "3  Diaz      F  9886 Anita Drive  Fort Washakie    WY  ...   \n",
       "4  Diaz      F  9886 Anita Drive  Fort Washakie    WY  ...   \n",
       "\n",
       "   times_shopped_at_merchant_month  times_shopped_at_merchant_day  \\\n",
       "0                                1                              1   \n",
       "1                                2                              2   \n",
       "2                                1                              3   \n",
       "3                                1                              1   \n",
       "4                                1                              2   \n",
       "\n",
       "   amt_avg_per_visit_to_merchant  amt_ratio_to_month_total  \\\n",
       "0                       1.211667                  0.879081   \n",
       "1                       4.072308                  0.864891   \n",
       "2                       7.461818                  0.572824   \n",
       "3                       4.348750                  0.195362   \n",
       "4                       6.795000                  0.132417   \n",
       "\n",
       "  consecutive_transactions_same_merchant   prev_dist  \\\n",
       "0                                      0         NaN   \n",
       "1                                      0  127.629296   \n",
       "2                                      0  110.202992   \n",
       "3                                      0   21.841827   \n",
       "4                                      0   87.124420   \n",
       "\n",
       "  relative_distance_vs_previous  merchant_entropy_user_level  \\\n",
       "0                      0.000000                      6.28729   \n",
       "1                    -17.426304                      6.28729   \n",
       "2                    -88.361165                      6.28729   \n",
       "3                     65.282594                      6.28729   \n",
       "4                    -12.771544                      6.28729   \n",
       "\n",
       "   has_traveled_far_in_a_day  travel  \n",
       "0                          1   False  \n",
       "1                          1   False  \n",
       "2                          1   False  \n",
       "3                          1   False  \n",
       "4                          1   False  \n",
       "\n",
       "[5 rows x 43 columns]"
      ]
     },
     "execution_count": 20,
     "metadata": {},
     "output_type": "execute_result"
    }
   ],
   "source": [
    "data.head()"
   ]
  },
  {
   "cell_type": "markdown",
   "id": "9d59fa6a",
   "metadata": {},
   "source": [
    "## Entrenamiento de modelo base"
   ]
  },
  {
   "cell_type": "code",
   "execution_count": null,
   "id": "6a23b6c2",
   "metadata": {},
   "outputs": [
    {
     "name": "stdout",
     "output_type": "stream",
     "text": [
      "Rango de fechas en data['datetime']: 2012-01-01 00:00:18 → 2013-12-31 23:59:34\n"
     ]
    }
   ],
   "source": [
    "print(\"Rango de fechas en data['datetime']:\", data['datetime'].min(), \"→\", data['datetime'].max())\n"
   ]
  },
  {
   "cell_type": "code",
   "execution_count": null,
   "id": "fea5c120",
   "metadata": {},
   "outputs": [],
   "source": [
    "import pandas as pd\n",
    "import numpy as np\n",
    "from sklearn.preprocessing import LabelEncoder\n",
    "\n",
    "# Convertir unix_time a datetime\n",
    "data['datetime'] = pd.to_datetime(data['unix_time'], unit='s')\n",
    "\n",
    "# Crear columna booleana para categoría 'viajes'\n",
    "data['is_travel'] = data['category'].str.lower().isin(['travel', 'airline', 'agency', 'vacation', 'tourism'])\n",
    "\n",
    "# Codificar columnas categóricas que se usan como features\n",
    "for col in ['category', 'gender', 'merchant', 'street', 'city', 'state', 'job']:\n",
    "    data[col] = LabelEncoder().fit_transform(data[col])\n",
    "\n",
    "# Cortar en noviembre de 2013\n",
    "train_data = data[data['datetime'] < '2013-11-01']\n",
    "test_data = data[data['datetime'] >= '2013-11-01']\n",
    "\n",
    "\n",
    "# Columnas que no se usarán como features\n",
    "drop_cols = ['is_fraud', 'datetime', 'first', 'last', 'dob', 'trans_num']\n",
    "\n",
    "# Seleccionar features\n",
    "features = [col for col in train_data.columns if col not in drop_cols]\n",
    "\n",
    "X_train = train_data[features]\n",
    "y_train = train_data['is_fraud']\n",
    "X_test = test_data[features]\n",
    "y_test = test_data['is_fraud']"
   ]
  },
  {
   "cell_type": "markdown",
   "id": "fd66e2c2",
   "metadata": {},
   "source": [
    "### Grid search para encontrar hiperparámetros adecuados"
   ]
  },
  {
   "cell_type": "code",
   "execution_count": 16,
   "id": "88d9946e",
   "metadata": {},
   "outputs": [
    {
     "name": "stdout",
     "output_type": "stream",
     "text": [
      "\n",
      "[1/16] Probando combinación: {'learning_rate': 0.1, 'max_depth': -1, 'min_child_samples': 20, 'num_leaves': 31}\n",
      "Training until validation scores don't improve for 10 rounds\n",
      "Early stopping, best iteration is:\n",
      "[30]\tvalid_0's auc: 0.953134\n",
      "  Fold 1 F1-score: 0.7731\n",
      "Training until validation scores don't improve for 10 rounds\n",
      "Early stopping, best iteration is:\n",
      "[6]\tvalid_0's auc: 0.958467\n",
      "  Fold 2 F1-score: 0.7978\n",
      "Training until validation scores don't improve for 10 rounds\n",
      "Early stopping, best iteration is:\n",
      "[26]\tvalid_0's auc: 0.955644\n",
      "  Fold 3 F1-score: 0.7791\n",
      "Training until validation scores don't improve for 10 rounds\n",
      "Early stopping, best iteration is:\n",
      "[5]\tvalid_0's auc: 0.976203\n",
      "  Fold 4 F1-score: 0.7652\n",
      "Training until validation scores don't improve for 10 rounds\n",
      "Early stopping, best iteration is:\n",
      "[5]\tvalid_0's auc: 0.973395\n",
      "  Fold 5 F1-score: 0.7912\n",
      "=> Promedio F1-score para esta combinación: 0.7813\n",
      "\n",
      "[2/16] Probando combinación: {'learning_rate': 0.1, 'max_depth': -1, 'min_child_samples': 20, 'num_leaves': 64}\n",
      "Training until validation scores don't improve for 10 rounds\n",
      "Early stopping, best iteration is:\n",
      "[5]\tvalid_0's auc: 0.969163\n",
      "  Fold 1 F1-score: 0.7905\n",
      "Training until validation scores don't improve for 10 rounds\n",
      "Early stopping, best iteration is:\n",
      "[27]\tvalid_0's auc: 0.955072\n",
      "  Fold 2 F1-score: 0.7700\n",
      "Training until validation scores don't improve for 10 rounds\n",
      "Early stopping, best iteration is:\n",
      "[2]\tvalid_0's auc: 0.966066\n",
      "  Fold 3 F1-score: 0.7999\n",
      "Training until validation scores don't improve for 10 rounds\n",
      "Early stopping, best iteration is:\n",
      "[16]\tvalid_0's auc: 0.965868\n",
      "  Fold 4 F1-score: 0.7736\n",
      "Training until validation scores don't improve for 10 rounds\n",
      "Early stopping, best iteration is:\n",
      "[11]\tvalid_0's auc: 0.954764\n",
      "  Fold 5 F1-score: 0.7805\n",
      "=> Promedio F1-score para esta combinación: 0.7829\n",
      "\n",
      "[3/16] Probando combinación: {'learning_rate': 0.1, 'max_depth': -1, 'min_child_samples': 50, 'num_leaves': 31}\n",
      "Training until validation scores don't improve for 10 rounds\n",
      "Early stopping, best iteration is:\n",
      "[30]\tvalid_0's auc: 0.96589\n",
      "  Fold 1 F1-score: 0.7817\n",
      "Training until validation scores don't improve for 10 rounds\n",
      "Early stopping, best iteration is:\n",
      "[9]\tvalid_0's auc: 0.954801\n",
      "  Fold 2 F1-score: 0.7892\n",
      "Training until validation scores don't improve for 10 rounds\n",
      "[50]\tvalid_0's auc: 0.974072\n",
      "Early stopping, best iteration is:\n",
      "[47]\tvalid_0's auc: 0.974644\n",
      "  Fold 3 F1-score: 0.7882\n",
      "Training until validation scores don't improve for 10 rounds\n",
      "Early stopping, best iteration is:\n",
      "[13]\tvalid_0's auc: 0.970135\n",
      "  Fold 4 F1-score: 0.7802\n",
      "Training until validation scores don't improve for 10 rounds\n",
      "Early stopping, best iteration is:\n",
      "[27]\tvalid_0's auc: 0.957948\n",
      "  Fold 5 F1-score: 0.7748\n",
      "=> Promedio F1-score para esta combinación: 0.7828\n",
      "\n",
      "[4/16] Probando combinación: {'learning_rate': 0.1, 'max_depth': -1, 'min_child_samples': 50, 'num_leaves': 64}\n",
      "Training until validation scores don't improve for 10 rounds\n",
      "Early stopping, best iteration is:\n",
      "[26]\tvalid_0's auc: 0.978893\n",
      "  Fold 1 F1-score: 0.7703\n",
      "Training until validation scores don't improve for 10 rounds\n",
      "Early stopping, best iteration is:\n",
      "[28]\tvalid_0's auc: 0.969961\n",
      "  Fold 2 F1-score: 0.7890\n",
      "Training until validation scores don't improve for 10 rounds\n",
      "Early stopping, best iteration is:\n",
      "[8]\tvalid_0's auc: 0.967767\n",
      "  Fold 3 F1-score: 0.7845\n",
      "Training until validation scores don't improve for 10 rounds\n",
      "Early stopping, best iteration is:\n",
      "[11]\tvalid_0's auc: 0.96418\n",
      "  Fold 4 F1-score: 0.7800\n",
      "Training until validation scores don't improve for 10 rounds\n",
      "Early stopping, best iteration is:\n",
      "[11]\tvalid_0's auc: 0.960294\n",
      "  Fold 5 F1-score: 0.7858\n",
      "=> Promedio F1-score para esta combinación: 0.7819\n",
      "\n",
      "[5/16] Probando combinación: {'learning_rate': 0.1, 'max_depth': 10, 'min_child_samples': 20, 'num_leaves': 31}\n",
      "Training until validation scores don't improve for 10 rounds\n",
      "Early stopping, best iteration is:\n",
      "[22]\tvalid_0's auc: 0.967163\n",
      "  Fold 1 F1-score: 0.7806\n",
      "Training until validation scores don't improve for 10 rounds\n",
      "Early stopping, best iteration is:\n",
      "[9]\tvalid_0's auc: 0.959807\n",
      "  Fold 2 F1-score: 0.7923\n",
      "Training until validation scores don't improve for 10 rounds\n",
      "Early stopping, best iteration is:\n",
      "[6]\tvalid_0's auc: 0.962236\n",
      "  Fold 3 F1-score: 0.7905\n",
      "Training until validation scores don't improve for 10 rounds\n",
      "Early stopping, best iteration is:\n",
      "[16]\tvalid_0's auc: 0.981917\n",
      "  Fold 4 F1-score: 0.7925\n",
      "Training until validation scores don't improve for 10 rounds\n",
      "Early stopping, best iteration is:\n",
      "[5]\tvalid_0's auc: 0.9719\n",
      "  Fold 5 F1-score: 0.7932\n",
      "=> Promedio F1-score para esta combinación: 0.7898\n",
      "\n",
      "[6/16] Probando combinación: {'learning_rate': 0.1, 'max_depth': 10, 'min_child_samples': 20, 'num_leaves': 64}\n",
      "Training until validation scores don't improve for 10 rounds\n",
      "Early stopping, best iteration is:\n",
      "[7]\tvalid_0's auc: 0.966307\n",
      "  Fold 1 F1-score: 0.7889\n",
      "Training until validation scores don't improve for 10 rounds\n",
      "Early stopping, best iteration is:\n",
      "[26]\tvalid_0's auc: 0.958394\n",
      "  Fold 2 F1-score: 0.7884\n",
      "Training until validation scores don't improve for 10 rounds\n",
      "Early stopping, best iteration is:\n",
      "[27]\tvalid_0's auc: 0.969419\n",
      "  Fold 3 F1-score: 0.7834\n",
      "Training until validation scores don't improve for 10 rounds\n",
      "Early stopping, best iteration is:\n",
      "[26]\tvalid_0's auc: 0.968603\n",
      "  Fold 4 F1-score: 0.7967\n",
      "Training until validation scores don't improve for 10 rounds\n",
      "Early stopping, best iteration is:\n",
      "[4]\tvalid_0's auc: 0.962251\n",
      "  Fold 5 F1-score: 0.7897\n",
      "=> Promedio F1-score para esta combinación: 0.7894\n",
      "\n",
      "[7/16] Probando combinación: {'learning_rate': 0.1, 'max_depth': 10, 'min_child_samples': 50, 'num_leaves': 31}\n",
      "Training until validation scores don't improve for 10 rounds\n",
      "[50]\tvalid_0's auc: 0.968635\n",
      "Early stopping, best iteration is:\n",
      "[60]\tvalid_0's auc: 0.970109\n",
      "  Fold 1 F1-score: 0.7912\n",
      "Training until validation scores don't improve for 10 rounds\n",
      "Early stopping, best iteration is:\n",
      "[11]\tvalid_0's auc: 0.961375\n",
      "  Fold 2 F1-score: 0.7886\n",
      "Training until validation scores don't improve for 10 rounds\n",
      "[50]\tvalid_0's auc: 0.967515\n",
      "Early stopping, best iteration is:\n",
      "[43]\tvalid_0's auc: 0.970404\n",
      "  Fold 3 F1-score: 0.7947\n",
      "Training until validation scores don't improve for 10 rounds\n",
      "[50]\tvalid_0's auc: 0.987684\n",
      "Early stopping, best iteration is:\n",
      "[60]\tvalid_0's auc: 0.988573\n",
      "  Fold 4 F1-score: 0.8023\n",
      "Training until validation scores don't improve for 10 rounds\n",
      "[50]\tvalid_0's auc: 0.966229\n",
      "Early stopping, best iteration is:\n",
      "[45]\tvalid_0's auc: 0.966822\n",
      "  Fold 5 F1-score: 0.7769\n",
      "=> Promedio F1-score para esta combinación: 0.7907\n",
      "\n",
      "[8/16] Probando combinación: {'learning_rate': 0.1, 'max_depth': 10, 'min_child_samples': 50, 'num_leaves': 64}\n",
      "Training until validation scores don't improve for 10 rounds\n",
      "[50]\tvalid_0's auc: 0.982344\n",
      "Early stopping, best iteration is:\n",
      "[46]\tvalid_0's auc: 0.9914\n",
      "  Fold 1 F1-score: 0.8035\n",
      "Training until validation scores don't improve for 10 rounds\n",
      "[50]\tvalid_0's auc: 0.969179\n",
      "Early stopping, best iteration is:\n",
      "[40]\tvalid_0's auc: 0.970152\n",
      "  Fold 2 F1-score: 0.8034\n",
      "Training until validation scores don't improve for 10 rounds\n",
      "Early stopping, best iteration is:\n",
      "[6]\tvalid_0's auc: 0.966901\n",
      "  Fold 3 F1-score: 0.7923\n",
      "Training until validation scores don't improve for 10 rounds\n",
      "Early stopping, best iteration is:\n",
      "[32]\tvalid_0's auc: 0.971826\n",
      "  Fold 4 F1-score: 0.7882\n",
      "Training until validation scores don't improve for 10 rounds\n",
      "Early stopping, best iteration is:\n",
      "[9]\tvalid_0's auc: 0.960941\n",
      "  Fold 5 F1-score: 0.7840\n",
      "=> Promedio F1-score para esta combinación: 0.7943\n",
      "\n",
      "[9/16] Probando combinación: {'learning_rate': 0.05, 'max_depth': -1, 'min_child_samples': 20, 'num_leaves': 31}\n",
      "Training until validation scores don't improve for 10 rounds\n",
      "Early stopping, best iteration is:\n",
      "[20]\tvalid_0's auc: 0.988507\n",
      "  Fold 1 F1-score: 0.8081\n",
      "Training until validation scores don't improve for 10 rounds\n",
      "[50]\tvalid_0's auc: 0.994293\n",
      "[100]\tvalid_0's auc: 0.996559\n",
      "Early stopping, best iteration is:\n",
      "[105]\tvalid_0's auc: 0.996572\n",
      "  Fold 2 F1-score: 0.8369\n",
      "Training until validation scores don't improve for 10 rounds\n",
      "[50]\tvalid_0's auc: 0.990475\n",
      "[100]\tvalid_0's auc: 0.994857\n",
      "Early stopping, best iteration is:\n",
      "[124]\tvalid_0's auc: 0.995456\n",
      "  Fold 3 F1-score: 0.8322\n",
      "Training until validation scores don't improve for 10 rounds\n",
      "[50]\tvalid_0's auc: 0.993991\n",
      "[100]\tvalid_0's auc: 0.99661\n",
      "Early stopping, best iteration is:\n",
      "[97]\tvalid_0's auc: 0.996647\n",
      "  Fold 4 F1-score: 0.8201\n",
      "Training until validation scores don't improve for 10 rounds\n",
      "[50]\tvalid_0's auc: 0.99365\n",
      "[100]\tvalid_0's auc: 0.996708\n",
      "[150]\tvalid_0's auc: 0.997424\n",
      "Early stopping, best iteration is:\n",
      "[158]\tvalid_0's auc: 0.997478\n",
      "  Fold 5 F1-score: 0.8379\n",
      "=> Promedio F1-score para esta combinación: 0.8270\n",
      "\n",
      "[10/16] Probando combinación: {'learning_rate': 0.05, 'max_depth': -1, 'min_child_samples': 20, 'num_leaves': 64}\n",
      "Training until validation scores don't improve for 10 rounds\n",
      "Early stopping, best iteration is:\n",
      "[20]\tvalid_0's auc: 0.991066\n",
      "  Fold 1 F1-score: 0.8135\n",
      "Training until validation scores don't improve for 10 rounds\n",
      "[50]\tvalid_0's auc: 0.995473\n",
      "Early stopping, best iteration is:\n",
      "[67]\tvalid_0's auc: 0.9965\n",
      "  Fold 2 F1-score: 0.8357\n",
      "Training until validation scores don't improve for 10 rounds\n",
      "[50]\tvalid_0's auc: 0.992302\n",
      "Early stopping, best iteration is:\n",
      "[63]\tvalid_0's auc: 0.992611\n",
      "  Fold 3 F1-score: 0.8293\n",
      "Training until validation scores don't improve for 10 rounds\n",
      "[50]\tvalid_0's auc: 0.994872\n",
      "Early stopping, best iteration is:\n",
      "[88]\tvalid_0's auc: 0.996586\n",
      "  Fold 4 F1-score: 0.8400\n",
      "Training until validation scores don't improve for 10 rounds\n",
      "[50]\tvalid_0's auc: 0.993638\n",
      "Early stopping, best iteration is:\n",
      "[63]\tvalid_0's auc: 0.995595\n",
      "  Fold 5 F1-score: 0.8299\n",
      "=> Promedio F1-score para esta combinación: 0.8297\n",
      "\n",
      "[11/16] Probando combinación: {'learning_rate': 0.05, 'max_depth': -1, 'min_child_samples': 50, 'num_leaves': 31}\n",
      "Training until validation scores don't improve for 10 rounds\n",
      "[50]\tvalid_0's auc: 0.994577\n",
      "[100]\tvalid_0's auc: 0.997848\n",
      "[150]\tvalid_0's auc: 0.998268\n",
      "[200]\tvalid_0's auc: 0.998575\n",
      "[250]\tvalid_0's auc: 0.998739\n",
      "[300]\tvalid_0's auc: 0.998888\n",
      "[350]\tvalid_0's auc: 0.998996\n",
      "[400]\tvalid_0's auc: 0.999084\n",
      "[450]\tvalid_0's auc: 0.999136\n",
      "[500]\tvalid_0's auc: 0.999173\n",
      "[550]\tvalid_0's auc: 0.999215\n",
      "[600]\tvalid_0's auc: 0.999244\n",
      "Early stopping, best iteration is:\n",
      "[593]\tvalid_0's auc: 0.999251\n",
      "  Fold 1 F1-score: 0.8811\n",
      "Training until validation scores don't improve for 10 rounds\n",
      "[50]\tvalid_0's auc: 0.993826\n",
      "[100]\tvalid_0's auc: 0.997951\n",
      "[150]\tvalid_0's auc: 0.99852\n",
      "Early stopping, best iteration is:\n",
      "[175]\tvalid_0's auc: 0.998598\n",
      "  Fold 2 F1-score: 0.8542\n",
      "Training until validation scores don't improve for 10 rounds\n",
      "[50]\tvalid_0's auc: 0.992861\n",
      "[100]\tvalid_0's auc: 0.996956\n",
      "[150]\tvalid_0's auc: 0.997719\n",
      "[200]\tvalid_0's auc: 0.998127\n",
      "[250]\tvalid_0's auc: 0.998384\n",
      "[300]\tvalid_0's auc: 0.998565\n",
      "[350]\tvalid_0's auc: 0.998642\n",
      "[400]\tvalid_0's auc: 0.998774\n",
      "[450]\tvalid_0's auc: 0.998874\n",
      "[500]\tvalid_0's auc: 0.998937\n",
      "Early stopping, best iteration is:\n",
      "[513]\tvalid_0's auc: 0.998953\n",
      "  Fold 3 F1-score: 0.8792\n",
      "Training until validation scores don't improve for 10 rounds\n",
      "[50]\tvalid_0's auc: 0.994501\n",
      "[100]\tvalid_0's auc: 0.997137\n",
      "[150]\tvalid_0's auc: 0.998157\n",
      "[200]\tvalid_0's auc: 0.99838\n",
      "Early stopping, best iteration is:\n",
      "[237]\tvalid_0's auc: 0.998447\n",
      "  Fold 4 F1-score: 0.8559\n",
      "Training until validation scores don't improve for 10 rounds\n",
      "[50]\tvalid_0's auc: 0.994008\n",
      "[100]\tvalid_0's auc: 0.997494\n",
      "[150]\tvalid_0's auc: 0.997927\n",
      "Early stopping, best iteration is:\n",
      "[169]\tvalid_0's auc: 0.998063\n",
      "  Fold 5 F1-score: 0.8513\n",
      "=> Promedio F1-score para esta combinación: 0.8643\n",
      "\n",
      "[12/16] Probando combinación: {'learning_rate': 0.05, 'max_depth': -1, 'min_child_samples': 50, 'num_leaves': 64}\n",
      "Training until validation scores don't improve for 10 rounds\n",
      "[50]\tvalid_0's auc: 0.995987\n",
      "[100]\tvalid_0's auc: 0.998231\n",
      "[150]\tvalid_0's auc: 0.99881\n",
      "[200]\tvalid_0's auc: 0.999066\n",
      "[250]\tvalid_0's auc: 0.999205\n",
      "[300]\tvalid_0's auc: 0.999305\n",
      "[350]\tvalid_0's auc: 0.999373\n",
      "[400]\tvalid_0's auc: 0.999398\n",
      "[450]\tvalid_0's auc: 0.999431\n",
      "[500]\tvalid_0's auc: 0.99947\n",
      "[550]\tvalid_0's auc: 0.999507\n",
      "Early stopping, best iteration is:\n",
      "[564]\tvalid_0's auc: 0.999517\n",
      "  Fold 1 F1-score: 0.8935\n",
      "Training until validation scores don't improve for 10 rounds\n",
      "[50]\tvalid_0's auc: 0.995956\n",
      "[100]\tvalid_0's auc: 0.998084\n",
      "[150]\tvalid_0's auc: 0.998427\n",
      "Early stopping, best iteration is:\n",
      "[168]\tvalid_0's auc: 0.998491\n",
      "  Fold 2 F1-score: 0.8702\n",
      "Training until validation scores don't improve for 10 rounds\n",
      "[50]\tvalid_0's auc: 0.994281\n",
      "Early stopping, best iteration is:\n",
      "[69]\tvalid_0's auc: 0.996123\n",
      "  Fold 3 F1-score: 0.8203\n",
      "Training until validation scores don't improve for 10 rounds\n",
      "[50]\tvalid_0's auc: 0.996093\n",
      "[100]\tvalid_0's auc: 0.997804\n",
      "[150]\tvalid_0's auc: 0.998531\n",
      "Early stopping, best iteration is:\n",
      "[157]\tvalid_0's auc: 0.99855\n",
      "  Fold 4 F1-score: 0.8608\n",
      "Training until validation scores don't improve for 10 rounds\n",
      "[50]\tvalid_0's auc: 0.996193\n",
      "[100]\tvalid_0's auc: 0.998154\n",
      "[150]\tvalid_0's auc: 0.998504\n",
      "[200]\tvalid_0's auc: 0.998769\n",
      "[250]\tvalid_0's auc: 0.998927\n",
      "[300]\tvalid_0's auc: 0.999063\n",
      "[350]\tvalid_0's auc: 0.999118\n",
      "Early stopping, best iteration is:\n",
      "[342]\tvalid_0's auc: 0.999121\n",
      "  Fold 5 F1-score: 0.8848\n",
      "=> Promedio F1-score para esta combinación: 0.8659\n",
      "\n",
      "[13/16] Probando combinación: {'learning_rate': 0.05, 'max_depth': 10, 'min_child_samples': 20, 'num_leaves': 31}\n",
      "Training until validation scores don't improve for 10 rounds\n",
      "[50]\tvalid_0's auc: 0.994911\n",
      "[100]\tvalid_0's auc: 0.997213\n",
      "Early stopping, best iteration is:\n",
      "[128]\tvalid_0's auc: 0.997566\n",
      "  Fold 1 F1-score: 0.8294\n",
      "Training until validation scores don't improve for 10 rounds\n",
      "[50]\tvalid_0's auc: 0.99428\n",
      "[100]\tvalid_0's auc: 0.997634\n",
      "[150]\tvalid_0's auc: 0.998113\n",
      "[200]\tvalid_0's auc: 0.998522\n",
      "[250]\tvalid_0's auc: 0.998682\n",
      "Early stopping, best iteration is:\n",
      "[247]\tvalid_0's auc: 0.998683\n",
      "  Fold 2 F1-score: 0.8564\n",
      "Training until validation scores don't improve for 10 rounds\n",
      "Early stopping, best iteration is:\n",
      "[29]\tvalid_0's auc: 0.989897\n",
      "  Fold 3 F1-score: 0.8182\n",
      "Training until validation scores don't improve for 10 rounds\n",
      "[50]\tvalid_0's auc: 0.994344\n",
      "[100]\tvalid_0's auc: 0.997366\n",
      "Early stopping, best iteration is:\n",
      "[121]\tvalid_0's auc: 0.997466\n",
      "  Fold 4 F1-score: 0.8362\n",
      "Training until validation scores don't improve for 10 rounds\n",
      "[50]\tvalid_0's auc: 0.993769\n",
      "Early stopping, best iteration is:\n",
      "[88]\tvalid_0's auc: 0.996302\n",
      "  Fold 5 F1-score: 0.8295\n",
      "=> Promedio F1-score para esta combinación: 0.8339\n",
      "\n",
      "[14/16] Probando combinación: {'learning_rate': 0.05, 'max_depth': 10, 'min_child_samples': 20, 'num_leaves': 64}\n",
      "Training until validation scores don't improve for 10 rounds\n",
      "Early stopping, best iteration is:\n",
      "[13]\tvalid_0's auc: 0.98977\n",
      "  Fold 1 F1-score: 0.8040\n",
      "Training until validation scores don't improve for 10 rounds\n",
      "[50]\tvalid_0's auc: 0.996618\n",
      "Early stopping, best iteration is:\n",
      "[85]\tvalid_0's auc: 0.998315\n",
      "  Fold 2 F1-score: 0.8571\n",
      "Training until validation scores don't improve for 10 rounds\n",
      "[50]\tvalid_0's auc: 0.993931\n",
      "[100]\tvalid_0's auc: 0.9967\n",
      "[150]\tvalid_0's auc: 0.997543\n",
      "[200]\tvalid_0's auc: 0.997925\n",
      "[250]\tvalid_0's auc: 0.998116\n",
      "[300]\tvalid_0's auc: 0.998332\n",
      "[350]\tvalid_0's auc: 0.998521\n",
      "[400]\tvalid_0's auc: 0.998696\n",
      "[450]\tvalid_0's auc: 0.998819\n",
      "[500]\tvalid_0's auc: 0.998902\n",
      "[550]\tvalid_0's auc: 0.998979\n",
      "[600]\tvalid_0's auc: 0.99903\n",
      "[650]\tvalid_0's auc: 0.999128\n",
      "[700]\tvalid_0's auc: 0.999182\n",
      "Early stopping, best iteration is:\n",
      "[700]\tvalid_0's auc: 0.999182\n",
      "  Fold 3 F1-score: 0.8913\n",
      "Training until validation scores don't improve for 10 rounds\n",
      "[50]\tvalid_0's auc: 0.995668\n",
      "Early stopping, best iteration is:\n",
      "[61]\tvalid_0's auc: 0.997452\n",
      "  Fold 4 F1-score: 0.8358\n",
      "Training until validation scores don't improve for 10 rounds\n",
      "[50]\tvalid_0's auc: 0.995431\n",
      "[100]\tvalid_0's auc: 0.997429\n",
      "[150]\tvalid_0's auc: 0.998081\n",
      "[200]\tvalid_0's auc: 0.998424\n",
      "Early stopping, best iteration is:\n",
      "[228]\tvalid_0's auc: 0.998531\n",
      "  Fold 5 F1-score: 0.8655\n",
      "=> Promedio F1-score para esta combinación: 0.8507\n",
      "\n",
      "[15/16] Probando combinación: {'learning_rate': 0.05, 'max_depth': 10, 'min_child_samples': 50, 'num_leaves': 31}\n",
      "Training until validation scores don't improve for 10 rounds\n",
      "[50]\tvalid_0's auc: 0.994508\n",
      "[100]\tvalid_0's auc: 0.997396\n",
      "[150]\tvalid_0's auc: 0.998115\n",
      "Early stopping, best iteration is:\n",
      "[156]\tvalid_0's auc: 0.99815\n",
      "  Fold 1 F1-score: 0.8492\n",
      "Training until validation scores don't improve for 10 rounds\n",
      "[50]\tvalid_0's auc: 0.995485\n",
      "[100]\tvalid_0's auc: 0.99793\n",
      "[150]\tvalid_0's auc: 0.998372\n",
      "[200]\tvalid_0's auc: 0.998648\n",
      "[250]\tvalid_0's auc: 0.998805\n",
      "[300]\tvalid_0's auc: 0.998904\n",
      "[350]\tvalid_0's auc: 0.999026\n",
      "[400]\tvalid_0's auc: 0.999116\n",
      "[450]\tvalid_0's auc: 0.999191\n",
      "[500]\tvalid_0's auc: 0.999229\n",
      "[550]\tvalid_0's auc: 0.999277\n",
      "[600]\tvalid_0's auc: 0.999313\n",
      "Early stopping, best iteration is:\n",
      "[597]\tvalid_0's auc: 0.999316\n",
      "  Fold 2 F1-score: 0.8922\n",
      "Training until validation scores don't improve for 10 rounds\n",
      "[50]\tvalid_0's auc: 0.99346\n",
      "[100]\tvalid_0's auc: 0.997438\n",
      "[150]\tvalid_0's auc: 0.998055\n",
      "[200]\tvalid_0's auc: 0.998297\n",
      "[250]\tvalid_0's auc: 0.998559\n",
      "[300]\tvalid_0's auc: 0.998754\n",
      "[350]\tvalid_0's auc: 0.99884\n",
      "[400]\tvalid_0's auc: 0.998921\n",
      "Early stopping, best iteration is:\n",
      "[398]\tvalid_0's auc: 0.998926\n",
      "  Fold 3 F1-score: 0.8693\n",
      "Training until validation scores don't improve for 10 rounds\n",
      "[50]\tvalid_0's auc: 0.994406\n",
      "[100]\tvalid_0's auc: 0.99738\n",
      "[150]\tvalid_0's auc: 0.997953\n",
      "[200]\tvalid_0's auc: 0.998251\n",
      "[250]\tvalid_0's auc: 0.99849\n",
      "[300]\tvalid_0's auc: 0.998627\n",
      "[350]\tvalid_0's auc: 0.998688\n",
      "Early stopping, best iteration is:\n",
      "[365]\tvalid_0's auc: 0.998717\n",
      "  Fold 4 F1-score: 0.8719\n",
      "Training until validation scores don't improve for 10 rounds\n",
      "[50]\tvalid_0's auc: 0.995092\n",
      "[100]\tvalid_0's auc: 0.997469\n",
      "[150]\tvalid_0's auc: 0.997941\n",
      "Early stopping, best iteration is:\n",
      "[158]\tvalid_0's auc: 0.998028\n",
      "  Fold 5 F1-score: 0.8524\n",
      "=> Promedio F1-score para esta combinación: 0.8670\n",
      "\n",
      "[16/16] Probando combinación: {'learning_rate': 0.05, 'max_depth': 10, 'min_child_samples': 50, 'num_leaves': 64}\n",
      "Training until validation scores don't improve for 10 rounds\n",
      "Early stopping, best iteration is:\n",
      "[11]\tvalid_0's auc: 0.990152\n",
      "  Fold 1 F1-score: 0.7974\n",
      "Training until validation scores don't improve for 10 rounds\n",
      "[50]\tvalid_0's auc: 0.99607\n",
      "[100]\tvalid_0's auc: 0.9986\n",
      "[150]\tvalid_0's auc: 0.998959\n",
      "[200]\tvalid_0's auc: 0.999127\n",
      "[250]\tvalid_0's auc: 0.999244\n",
      "[300]\tvalid_0's auc: 0.999342\n",
      "[350]\tvalid_0's auc: 0.999411\n",
      "[400]\tvalid_0's auc: 0.999459\n",
      "[450]\tvalid_0's auc: 0.999514\n",
      "[500]\tvalid_0's auc: 0.999528\n",
      "Early stopping, best iteration is:\n",
      "[494]\tvalid_0's auc: 0.999535\n",
      "  Fold 2 F1-score: 0.9037\n",
      "Training until validation scores don't improve for 10 rounds\n",
      "[50]\tvalid_0's auc: 0.995834\n",
      "[100]\tvalid_0's auc: 0.99805\n",
      "[150]\tvalid_0's auc: 0.998612\n",
      "[200]\tvalid_0's auc: 0.99882\n",
      "[250]\tvalid_0's auc: 0.998972\n",
      "[300]\tvalid_0's auc: 0.999068\n",
      "[350]\tvalid_0's auc: 0.999189\n",
      "[400]\tvalid_0's auc: 0.999255\n",
      "[450]\tvalid_0's auc: 0.999307\n",
      "Early stopping, best iteration is:\n",
      "[458]\tvalid_0's auc: 0.999312\n",
      "  Fold 3 F1-score: 0.8949\n",
      "Training until validation scores don't improve for 10 rounds\n",
      "[50]\tvalid_0's auc: 0.996835\n",
      "[100]\tvalid_0's auc: 0.998628\n",
      "[150]\tvalid_0's auc: 0.998912\n",
      "[200]\tvalid_0's auc: 0.999095\n",
      "[250]\tvalid_0's auc: 0.999178\n",
      "[300]\tvalid_0's auc: 0.999246\n",
      "[350]\tvalid_0's auc: 0.999303\n",
      "[400]\tvalid_0's auc: 0.99936\n",
      "[450]\tvalid_0's auc: 0.999406\n",
      "[500]\tvalid_0's auc: 0.999429\n",
      "Early stopping, best iteration is:\n",
      "[496]\tvalid_0's auc: 0.999432\n",
      "  Fold 4 F1-score: 0.8997\n",
      "Training until validation scores don't improve for 10 rounds\n",
      "[50]\tvalid_0's auc: 0.996137\n",
      "[100]\tvalid_0's auc: 0.998299\n",
      "[150]\tvalid_0's auc: 0.998628\n",
      "[200]\tvalid_0's auc: 0.998755\n",
      "[250]\tvalid_0's auc: 0.998859\n",
      "Early stopping, best iteration is:\n",
      "[243]\tvalid_0's auc: 0.99887\n",
      "  Fold 5 F1-score: 0.8756\n",
      "=> Promedio F1-score para esta combinación: 0.8743\n",
      "\n",
      "Mejor combinación de parámetros: {'learning_rate': 0.05, 'max_depth': 10, 'min_child_samples': 50, 'num_leaves': 64} con F1-score promedio: 0.8743\n"
     ]
    }
   ],
   "source": [
    "from sklearn.model_selection import StratifiedKFold\n",
    "from sklearn.model_selection import ParameterGrid\n",
    "from sklearn.metrics import f1_score\n",
    "from lightgbm import LGBMClassifier, early_stopping, log_evaluation\n",
    "from sklearn.metrics import roc_auc_score, confusion_matrix\n",
    "\n",
    "cv = StratifiedKFold(n_splits=5, shuffle=True, random_state=42)\n",
    "\n",
    "best_score = 0\n",
    "best_params = None\n",
    "results = []\n",
    "\n",
    "param_grid = {\n",
    "    'num_leaves': [31, 64],\n",
    "    'max_depth': [-1, 10],\n",
    "    'learning_rate': [0.1, 0.05],\n",
    "    'min_child_samples': [20, 50]\n",
    "}\n",
    "\n",
    "# Recorremos cada combinación de parámetros\n",
    "for i, params in enumerate(ParameterGrid(param_grid), 1):\n",
    "    print(f\"\\n[{i}/{len(ParameterGrid(param_grid))}] Probando combinación: {params}\")\n",
    "    \n",
    "    fold_scores = []\n",
    "    \n",
    "    for fold, (train_idx, val_idx) in enumerate(cv.split(X_train, y_train), 1):\n",
    "        X_tr, X_val = X_train.iloc[train_idx], X_train.iloc[val_idx]\n",
    "        y_tr, y_val = y_train.iloc[train_idx], y_train.iloc[val_idx]\n",
    "        \n",
    "        model = LGBMClassifier(\n",
    "            objective='binary',\n",
    "            metric='auc',\n",
    "            n_estimators=1000,\n",
    "            verbosity=-1,\n",
    "            device='gpu',\n",
    "            **params\n",
    "        )\n",
    "        \n",
    "        model.fit(\n",
    "            X_tr, y_tr,\n",
    "            eval_set=[(X_val, y_val)],\n",
    "            eval_metric='auc',\n",
    "            callbacks=[early_stopping(10), log_evaluation(50)]\n",
    "        )\n",
    "        \n",
    "        y_pred = (model.predict_proba(X_val)[:, 1] > 0.5).astype(int)\n",
    "        f1 = f1_score(y_val, y_pred)\n",
    "        fold_scores.append(f1)\n",
    "        \n",
    "        print(f\"  Fold {fold} F1-score: {f1:.4f}\")\n",
    "    \n",
    "    avg_f1 = np.mean(fold_scores)\n",
    "    print(f\"=> Promedio F1-score para esta combinación: {avg_f1:.4f}\")\n",
    "    results.append((params, avg_f1))\n",
    "    \n",
    "    if avg_f1 > best_score:\n",
    "        best_score = avg_f1\n",
    "        best_params = params\n",
    "\n",
    "print(f\"\\nMejor combinación de parámetros: {best_params} con F1-score promedio: {best_score:.4f}\")"
   ]
  },
  {
   "cell_type": "markdown",
   "id": "51d55c8e",
   "metadata": {},
   "source": [
    "### Métricas personalizadas"
   ]
  },
  {
   "cell_type": "code",
   "execution_count": 17,
   "id": "e2b5847e",
   "metadata": {},
   "outputs": [],
   "source": [
    "import pandas as pd\n",
    "from sklearn.metrics import f1_score, roc_auc_score, confusion_matrix, fbeta_score\n",
    "from lightgbm import LGBMClassifier"
   ]
  },
  {
   "cell_type": "code",
   "execution_count": 30,
   "id": "7416c252",
   "metadata": {},
   "outputs": [],
   "source": [
    "def evaluate_model_with_custom_metric(X_train, y_train, X_test, y_test, custom_feval=None, metric_name=None):\n",
    "    \"\"\"\n",
    "    Entrena un modelo LGBM con una métrica personalizada (feval) y evalúa en el test set.\n",
    "    Retorna un DataFrame con métricas clave: FP ratio, AUC, F1-score, TP, FP.\n",
    "    \n",
    "    custom_feval: función tipo LightGBM feval (devuelve nombre, valor, is_higher_better)\n",
    "    metric_name: string con el nombre que quieres mostrar en el resultado\n",
    "    \"\"\"\n",
    "    model = LGBMClassifier(\n",
    "        objective='binary',\n",
    "        n_estimators=1000,\n",
    "        verbosity=-1,\n",
    "        learning_rate=0.05,\n",
    "        max_depth=10,\n",
    "        num_leaves=64,\n",
    "        min_child_samples=20,\n",
    "    )\n",
    "    \n",
    "    model.fit(\n",
    "        X_train, y_train,\n",
    "        eval_set=[(X_test, y_test)],\n",
    "        eval_metric=custom_feval,\n",
    "        callbacks=[early_stopping(10)]\n",
    "    )\n",
    "    \n",
    "    y_pred_proba = model.predict_proba(X_test)[:, 1]\n",
    "    y_pred = (y_pred_proba > 0.5).astype(int)\n",
    "\n",
    "    auc = roc_auc_score(y_test, y_pred_proba)\n",
    "    f1 = f1_score(y_test, y_pred)\n",
    "    \n",
    "    # TP, FP\n",
    "    tn, fp, fn, tp = confusion_matrix(y_test, y_pred, labels=[0, 1]).ravel()\n",
    "    fp_ratio = (tp + fp) / (tp + 1e-9)\n",
    "\n",
    "    # Resultado como DataFrame\n",
    "    results = pd.DataFrame([{\n",
    "        'custom_metric': metric_name if metric_name else custom_feval.__name__,\n",
    "        'fp_ratio': fp_ratio,\n",
    "        'auc': auc,\n",
    "        'f1_score': f1,\n",
    "        'tp': tp,\n",
    "        'fp': fp\n",
    "    }])\n",
    "    \n",
    "    return results\n"
   ]
  },
  {
   "cell_type": "code",
   "execution_count": 31,
   "id": "acc15836",
   "metadata": {},
   "outputs": [],
   "source": [
    "from sklearn.metrics import confusion_matrix, fbeta_score\n",
    "\n",
    "def fp_penalty(preds, train_data):\n",
    "    \"\"\"Número de falsos positivos a penalizar (minimizar).\"\"\"\n",
    "    labels = train_data.astype(int)\n",
    "    preds_binary = (preds > 0.5).astype(int)\n",
    "    tn, fp, fn, tp = confusion_matrix(labels, preds_binary).ravel()\n",
    "    return 'fp_penalty', float(fp), False\n",
    "\n",
    "def fp_ratio(preds, train_data):\n",
    "    \"\"\"(TP + FP) / TP — Minimizarlo.\"\"\"\n",
    "    labels = train_data.astype(int)\n",
    "    preds_binary = (preds > 0.5).astype(int)\n",
    "    tn, fp, fn, tp = confusion_matrix(labels, preds_binary).ravel()\n",
    "    ratio = (tp + fp) / (tp + 1e-9)  # evitar división por cero\n",
    "    return 'fp_ratio', ratio, False\n",
    "\n",
    "def fbeta_half(preds, train_data):\n",
    "    \"\"\"F0.5-score: favorece recall más que precisión.\"\"\"\n",
    "    labels = train_data.astype(int)\n",
    "    preds_binary = (preds > 0.5).astype(int)\n",
    "    score = fbeta_score(labels, preds_binary, beta=0.5)\n",
    "    return 'f0.5', score, True\n"
   ]
  },
  {
   "cell_type": "code",
   "execution_count": 32,
   "id": "28991d9d",
   "metadata": {},
   "outputs": [
    {
     "name": "stdout",
     "output_type": "stream",
     "text": [
      "Training until validation scores don't improve for 10 rounds\n",
      "Early stopping, best iteration is:\n",
      "[92]\tvalid_0's binary_logloss: 0.00423576\n",
      "Training until validation scores don't improve for 10 rounds\n",
      "Early stopping, best iteration is:\n",
      "[1]\tvalid_0's binary_logloss: 0.0109664\tvalid_0's fp_penalty: 552\n",
      "Training until validation scores don't improve for 10 rounds\n",
      "Early stopping, best iteration is:\n",
      "[1]\tvalid_0's binary_logloss: 0.0109664\tvalid_0's fp_ratio: 5.52e+11\n",
      "Training until validation scores don't improve for 10 rounds\n",
      "Early stopping, best iteration is:\n",
      "[1]\tvalid_0's binary_logloss: 0.0109664\tvalid_0's f0.5: 0\n"
     ]
    }
   ],
   "source": [
    "\n",
    "results_baseline = evaluate_model_with_custom_metric(\n",
    "    X_train, y_train, X_test, y_test,\n",
    "    custom_feval=None,\n",
    "    metric_name='baseline'\n",
    ")\n",
    "\n",
    "results_fp_penalty = evaluate_model_with_custom_metric(\n",
    "    X_train, y_train, X_test, y_test,\n",
    "    custom_feval=fp_penalty,\n",
    "    metric_name='fp_penalty'\n",
    ")\n",
    "\n",
    "results_fp_ratio = evaluate_model_with_custom_metric(\n",
    "    X_train, y_train, X_test, y_test,\n",
    "    custom_feval=fp_ratio,\n",
    "    metric_name='fp_ratio'\n",
    ")\n",
    "\n",
    "results_fbeta_half = evaluate_model_with_custom_metric(\n",
    "    X_train, y_train, X_test, y_test,\n",
    "    custom_feval=fbeta_half,\n",
    "    metric_name='f0.5'\n",
    ") "
   ]
  },
  {
   "cell_type": "markdown",
   "id": "c8bd5005",
   "metadata": {},
   "source": [
    "### Comparación de métricas personalizadas"
   ]
  },
  {
   "cell_type": "code",
   "execution_count": 33,
   "id": "a110d6c1",
   "metadata": {},
   "outputs": [
    {
     "data": {
      "text/html": [
       "<div>\n",
       "<style scoped>\n",
       "    .dataframe tbody tr th:only-of-type {\n",
       "        vertical-align: middle;\n",
       "    }\n",
       "\n",
       "    .dataframe tbody tr th {\n",
       "        vertical-align: top;\n",
       "    }\n",
       "\n",
       "    .dataframe thead th {\n",
       "        text-align: right;\n",
       "    }\n",
       "</style>\n",
       "<table border=\"1\" class=\"dataframe\">\n",
       "  <thead>\n",
       "    <tr style=\"text-align: right;\">\n",
       "      <th></th>\n",
       "      <th>custom_metric</th>\n",
       "      <th>fp_ratio</th>\n",
       "      <th>auc</th>\n",
       "      <th>f1_score</th>\n",
       "      <th>tp</th>\n",
       "      <th>fp</th>\n",
       "    </tr>\n",
       "  </thead>\n",
       "  <tbody>\n",
       "    <tr>\n",
       "      <th>0</th>\n",
       "      <td>baseline</td>\n",
       "      <td>1.273585</td>\n",
       "      <td>0.995725</td>\n",
       "      <td>0.776557</td>\n",
       "      <td>424</td>\n",
       "      <td>116</td>\n",
       "    </tr>\n",
       "    <tr>\n",
       "      <th>1</th>\n",
       "      <td>fp_penalty</td>\n",
       "      <td>1.268222</td>\n",
       "      <td>0.901697</td>\n",
       "      <td>0.695035</td>\n",
       "      <td>343</td>\n",
       "      <td>92</td>\n",
       "    </tr>\n",
       "    <tr>\n",
       "      <th>2</th>\n",
       "      <td>fp_ratio</td>\n",
       "      <td>1.268222</td>\n",
       "      <td>0.901697</td>\n",
       "      <td>0.695035</td>\n",
       "      <td>343</td>\n",
       "      <td>92</td>\n",
       "    </tr>\n",
       "    <tr>\n",
       "      <th>3</th>\n",
       "      <td>f0.5</td>\n",
       "      <td>1.268222</td>\n",
       "      <td>0.901697</td>\n",
       "      <td>0.695035</td>\n",
       "      <td>343</td>\n",
       "      <td>92</td>\n",
       "    </tr>\n",
       "  </tbody>\n",
       "</table>\n",
       "</div>"
      ],
      "text/plain": [
       "  custom_metric  fp_ratio       auc  f1_score   tp   fp\n",
       "0      baseline  1.273585  0.995725  0.776557  424  116\n",
       "1    fp_penalty  1.268222  0.901697  0.695035  343   92\n",
       "2      fp_ratio  1.268222  0.901697  0.695035  343   92\n",
       "3          f0.5  1.268222  0.901697  0.695035  343   92"
      ]
     },
     "execution_count": 33,
     "metadata": {},
     "output_type": "execute_result"
    }
   ],
   "source": [
    "# Imprimir resultados de todos los df\n",
    "results = pd.concat([results_baseline, results_fp_penalty, results_fp_ratio, results_fbeta_half], ignore_index=True)\n",
    "results"
   ]
  }
 ],
 "metadata": {
  "kernelspec": {
   "display_name": "Python 3",
   "language": "python",
   "name": "python3"
  },
  "language_info": {
   "codemirror_mode": {
    "name": "ipython",
    "version": 3
   },
   "file_extension": ".py",
   "mimetype": "text/x-python",
   "name": "python",
   "nbconvert_exporter": "python",
   "pygments_lexer": "ipython3",
   "version": "3.12.10"
  }
 },
 "nbformat": 4,
 "nbformat_minor": 5
}
